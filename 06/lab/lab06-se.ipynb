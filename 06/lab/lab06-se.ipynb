{
 "cells": [
  {
   "cell_type": "markdown",
   "id": "b88fd3f7-f446-4987-8133-25cb64a34185",
   "metadata": {},
   "source": [
    "# R Lab for Applied Data Science | 06\n",
    "\n",
    "In this lab, you'll be looking at a subset of emails from the [enron email dataset](https://www.kaggle.com/datasets/wcukierski/enron-email-dataset). I've limited the dataset to only look at internal communications (enron to enron emails), filtered the date to be from the year 2000 onward, and sampled the emails to reduce the data size. In total, you'll be working with $\\approx 85,000$ emails. I've included the data for you in the file `enron-subset-se.rds`, so be sure to download that before you begin. The dataset includes only 1 column (character) which contains complete information about the email. \n",
    "\n",
    "> Enron was a large US energy, commodities, and services company that committed widespread internal fraud eventually leading to its collapse in 2001. The scandal became public in October 2001 and Enron filed for Chapter 11 bankruptcy on December 2, 2001. At the time, it was the largest corporate bankruptcy in US history. You can [read more about it here](https://en.wikipedia.org/wiki/Enron_scandal).\n",
    "\n",
    "Your goal in this analysis is to perform the following:\n",
    "\n",
    "1. Make new columns that extract the `date` and the email `message_text` (email body). You'll need to convert the date from a character to a date object.\n",
    "2. Tokenize `message_text` by word, calculate the sentiment, then create a `sentiment_score` column where $negative \\equiv -1$ an $positive \\equiv 1$.\n",
    "3. Summarize the average `sentiment_score` by month. Make a plot that shows the average sentiment score over time. It should look something like this:\n",
    "\n",
    "![task3 example](https://github.com/jon-kane/teaching/blob/main/DSCI6122/lab06-task3.png?raw=true)\n",
    "\n",
    "4. Generate word clouds for the words with negative sentiment for both pre March 2001 and post March 2001. They should look something like this:\n",
    "\n",
    "Pre March 2001\n",
    "\n",
    "![tastk4_pre](https://github.com/jon-kane/teaching/blob/main/DSCI6122/lab06-task41.png?raw=true)\n",
    "\n",
    "Post March 2001\n",
    "\n",
    "![tastk4_post](https://github.com/jon-kane/teaching/blob/main/DSCI6122/lab06-task42.png?raw=true)"
   ]
  },
  {
   "cell_type": "code",
   "execution_count": null,
   "id": "00592ed6-7abe-4f61-95b7-11ec88b735a0",
   "metadata": {},
   "outputs": [],
   "source": [
    "# your code here"
   ]
  }
 ],
 "metadata": {
  "kernelspec": {
   "display_name": "R",
   "language": "R",
   "name": "ir"
  },
  "language_info": {
   "codemirror_mode": "r",
   "file_extension": ".r",
   "mimetype": "text/x-r-source",
   "name": "R",
   "pygments_lexer": "r",
   "version": "4.4.2"
  }
 },
 "nbformat": 4,
 "nbformat_minor": 5
}
